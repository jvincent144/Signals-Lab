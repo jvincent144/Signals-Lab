{
 "cells": [
  {
   "cell_type": "code",
   "execution_count": null,
   "metadata": {},
   "outputs": [],
   "source": [
    "# System Operations\n",
    "import os\n",
    "import sys\n",
    "\n",
    "# Mathematical Operations\n",
    "import numpy as np\n",
    "from scipy.io import loadmat # Works for MATLAB versions up to and including 7.1\n",
    "from numpy.fft import fft\n",
    "from numpy.fft import fftfreq\n",
    "from numpy.fft import ifft\n",
    "from scipy.signal import TransferFunction\n",
    "from scipy.signal import bode\n",
    "import matplotlib.pyplot as plt"
   ]
  },
  {
   "cell_type": "code",
   "execution_count": null,
   "metadata": {},
   "outputs": [],
   "source": [
    "class MyTransfer():\n",
    "    def __init__(self, num, denom):\n",
    "        self.num = num\n",
    "        self.denom = denom\n",
    "        self.num_order = len(num)\n",
    "        self.denom_order = len(denom)\n",
    "        if(0 == self.num_order):\n",
    "            sys.error(\"Enter a proper numerator.\")\n",
    "        if(0 == self.denom_order):\n",
    "            sys.error(\"Enter a proper denominator.\")\n",
    "        \n",
    "    def __call__(self, freq):\n",
    "        num_temp = 0.0\n",
    "        denom_temp = 0.0\n",
    "        for i in range(self.num_order):\n",
    "            num_temp += self.num[i]*np.power(freq, self.num_order - i - 1)\n",
    "        for i in range(self.denom_order):\n",
    "            denom_temp += self.denom[i]*np.power(freq, self.denom_order - i - 1)\n",
    "        return num_temp/denom_temp"
   ]
  },
  {
   "cell_type": "code",
   "execution_count": null,
   "metadata": {},
   "outputs": [],
   "source": [
    "path = os.path.join(os.getcwd(), \"training2017/A00001.mat\")\n",
    "data = loadmat(path)\n",
    "ekg = np.squeeze(np.array(data[\"val\"]), axis = 0)\n",
    "ekg = ekg/np.max(ekg)"
   ]
  },
  {
   "cell_type": "code",
   "execution_count": null,
   "metadata": {},
   "outputs": [],
   "source": [
    "fs = 300 # Samples per second\n",
    "dt = 1/fs # Sampling spacing\n",
    "num_seconds = 30 # Ten second sample period\n",
    "t = np.linspace(0, num_seconds, num_seconds*fs)"
   ]
  },
  {
   "cell_type": "code",
   "execution_count": null,
   "metadata": {},
   "outputs": [],
   "source": [
    "# Take the Fourier Transform\n",
    "components = fft(ekg)\n",
    "real_components = components.real\n",
    "freq = fftfreq(ekg.shape[-1], d = dt)"
   ]
  },
  {
   "cell_type": "code",
   "execution_count": null,
   "metadata": {
    "scrolled": true
   },
   "outputs": [],
   "source": [
    "figs, axs = plt.subplots(2)\n",
    "\n",
    "axs[0].plot(t, ekg)\n",
    "axs[0].set_title(\"Sinusoid\")\n",
    "axs[0].set_xlabel(\"Time [s]\")\n",
    "axs[0].set_ylabel(\"EKG\")\n",
    "\n",
    "axs[1].plot(freq, real_components)\n",
    "# axs[1].set_xlim(left = 0)\n",
    "axs[1].set_title(\"Fourier Domain\")\n",
    "axs[1].set_xlabel(\"Frequency [Hz]\")\n",
    "axs[1].set_ylabel(\"Magnitude\")\n",
    "\n",
    "plt.tight_layout()"
   ]
  },
  {
   "cell_type": "code",
   "execution_count": null,
   "metadata": {},
   "outputs": [],
   "source": [
    "for i in range(freq.shape[-1]):\n",
    "    if(0 > freq[i]):\n",
    "        cutoff = i\n",
    "        break"
   ]
  },
  {
   "cell_type": "code",
   "execution_count": null,
   "metadata": {},
   "outputs": [],
   "source": [
    "positive_freq = freq[:cutoff]\n",
    "positive_components = components[:cutoff]"
   ]
  },
  {
   "cell_type": "code",
   "execution_count": null,
   "metadata": {},
   "outputs": [],
   "source": [
    "#### Low Pass Filter Design ####"
   ]
  },
  {
   "cell_type": "code",
   "execution_count": null,
   "metadata": {},
   "outputs": [],
   "source": [
    "omega_naught = 5\n",
    "num = [1]\n",
    "denom = [1/omega_naught, 1]\n",
    "transfer = TransferFunction(num, denom)"
   ]
  },
  {
   "cell_type": "code",
   "execution_count": null,
   "metadata": {},
   "outputs": [],
   "source": [
    "#### Bode Plot ####"
   ]
  },
  {
   "cell_type": "code",
   "execution_count": null,
   "metadata": {},
   "outputs": [],
   "source": [
    "w, mag, phase = bode(transfer)\n",
    "fig, ax = plt.subplots(2)\n",
    "\n",
    "# Bode magnitude plot\n",
    "ax[0].semilogx(w, mag)\n",
    "ax[0].set_title(\"Magnitude\")\n",
    "ax[0].set_xlabel(\"Log(Angular Frequency)\")\n",
    "ax[0].set_ylabel(\"Magnitude\")\n",
    "\n",
    "# Bode phase plot\n",
    "ax[1].semilogx(w, phase)\n",
    "ax[1].set_title(\"Phase\")\n",
    "ax[1].set_xlabel(\"Log(Angular Frequency)\")\n",
    "ax[1].set_ylabel(\"Phase [Rad]\")\n",
    "plt.tight_layout()"
   ]
  },
  {
   "cell_type": "code",
   "execution_count": null,
   "metadata": {},
   "outputs": [],
   "source": [
    "#### Apply Filter ####"
   ]
  },
  {
   "cell_type": "code",
   "execution_count": null,
   "metadata": {},
   "outputs": [],
   "source": [
    "myFunc = MyTransfer(num, denom)\n",
    "transfer_coeffs = []\n",
    "for i in range(positive_freq.shape[-1]):\n",
    "    transfer_coeffs.append(myFunc(positive_freq[i]))\n",
    "transfer_coeffs = np.array(transfer_coeffs)\n",
    "filtered_components = transfer_coeffs*positive_components\n",
    "filtered_ekg = ifft(filtered_components)"
   ]
  },
  {
   "cell_type": "code",
   "execution_count": null,
   "metadata": {},
   "outputs": [],
   "source": [
    "figs, axs = plt.subplots(2)\n",
    "\n",
    "axs[0].plot(t[:cutoff], filtered_ekg)\n",
    "axs[0].set_title(\"Sinusoid\")\n",
    "axs[0].set_xlabel(\"Time [s]\")\n",
    "axs[0].set_ylabel(\"EKG\")\n",
    "\n",
    "axs[1].plot(positive_freq, filtered_components)\n",
    "# axs[1].set_xlim(left = 0)\n",
    "axs[1].set_title(\"Fourier Domain\")\n",
    "axs[1].set_xlabel(\"Frequency [Hz]\")\n",
    "axs[1].set_ylabel(\"Magnitude\")\n",
    "\n",
    "plt.tight_layout()"
   ]
  },
  {
   "cell_type": "code",
   "execution_count": null,
   "metadata": {},
   "outputs": [],
   "source": [
    "#### Reference Documentation ####\n",
    "# https://numpy.org/doc/stable/reference/generated/numpy.fft.fft.html#numpy.fft.fft\n",
    "# https://numpy.org/doc/stable/reference/generated/numpy.fft.fftfreq.html\n",
    "# https://docs.scipy.org/doc/scipy/reference/generated/scipy.signal.TransferFunction.html\n",
    "# https://docs.scipy.org/doc/scipy/reference/generated/scipy.signal.bode.html\n",
    "# https://www.youtube.com/user/ControlLectures/playlists"
   ]
  }
 ],
 "metadata": {
  "kernelspec": {
   "display_name": "Python 3",
   "language": "python",
   "name": "python3"
  },
  "language_info": {
   "codemirror_mode": {
    "name": "ipython",
    "version": 3
   },
   "file_extension": ".py",
   "mimetype": "text/x-python",
   "name": "python",
   "nbconvert_exporter": "python",
   "pygments_lexer": "ipython3",
   "version": "3.7.3"
  }
 },
 "nbformat": 4,
 "nbformat_minor": 2
}
