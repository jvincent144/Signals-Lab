{
 "cells": [
  {
   "cell_type": "code",
   "execution_count": null,
   "metadata": {},
   "outputs": [],
   "source": [
    "import numpy as np\n",
    "from numpy.fft import fft\n",
    "from numpy.fft import fftfreq\n",
    "import matplotlib.pyplot as plt"
   ]
  },
  {
   "cell_type": "code",
   "execution_count": null,
   "metadata": {},
   "outputs": [],
   "source": [
    "fs = 44 # Sampling frequency in Hz\n",
    "num_seconds = 6 # Sample for six seconds\n",
    "t = np.linspace(0, num_seconds, fs*num_seconds)"
   ]
  },
  {
   "cell_type": "code",
   "execution_count": null,
   "metadata": {},
   "outputs": [],
   "source": [
    "# Generate a sinusoid\n",
    "a = 1\n",
    "f1 = 2 # Two cycles per second\n",
    "omega1 = 2*np.pi*f1 # Convert to sinusoid space\n",
    "y = a*np.cos(omega1*t)"
   ]
  },
  {
   "cell_type": "code",
   "execution_count": null,
   "metadata": {},
   "outputs": [],
   "source": [
    "# Take the Fourier Transform\n",
    "components = fft(y)\n",
    "real_components = components.real\n",
    "freq = fftfreq(y.shape[-1], d = 1/fs)"
   ]
  },
  {
   "cell_type": "code",
   "execution_count": null,
   "metadata": {},
   "outputs": [],
   "source": [
    "figs, axs = plt.subplots(2)\n",
    "\n",
    "axs[0].plot(t, y)\n",
    "axs[0].set_title(\"Sinusoid\")\n",
    "axs[0].set_xlabel(\"Time [s]\")\n",
    "axs[0].set_ylabel(\"Y\")\n",
    "\n",
    "axs[1].plot(freq, real_components)\n",
    "axs[1].set_xlim(left = 0)\n",
    "axs[1].set_title(\"Fourier Domain\")\n",
    "axs[1].set_xlabel(\"Frequency [Hz]\")\n",
    "axs[1].set_ylabel(\"Magnitude\")\n",
    "\n",
    "plt.tight_layout()"
   ]
  },
  {
   "cell_type": "code",
   "execution_count": null,
   "metadata": {},
   "outputs": [],
   "source": [
    "# Add some high frequency \"noise\" to the sinusoid\n",
    "b = 1/2\n",
    "f2 = 6\n",
    "omega2 = 2*np.pi*f2\n",
    "y += b*np.cos(omega2*t)"
   ]
  },
  {
   "cell_type": "code",
   "execution_count": null,
   "metadata": {},
   "outputs": [],
   "source": [
    "# Take the Fourier Transform, again\n",
    "components = fft(y)\n",
    "real_components = components.real\n",
    "freq = fftfreq(y.shape[-1], d = 1/fs)"
   ]
  },
  {
   "cell_type": "code",
   "execution_count": null,
   "metadata": {},
   "outputs": [],
   "source": [
    "figs, axs = plt.subplots(2)\n",
    "\n",
    "axs[0].plot(t, y)\n",
    "axs[0].set_title(\"Sinusoid\")\n",
    "axs[0].set_xlabel(\"Time [s]\")\n",
    "axs[0].set_ylabel(\"Y\")\n",
    "\n",
    "axs[1].plot(freq, real_components)\n",
    "axs[1].set_xlim(left = 0)\n",
    "axs[1].set_title(\"Fourier Domain\")\n",
    "axs[1].set_xlabel(\"Frequency [Hz]\")\n",
    "axs[1].set_ylabel(\"Magnitude\")\n",
    "\n",
    "plt.tight_layout()"
   ]
  },
  {
   "cell_type": "code",
   "execution_count": null,
   "metadata": {},
   "outputs": [],
   "source": [
    "# Subtract the approximation\n",
    "freq_noise = 6\n",
    "coef = np.mean(y*np.cos(2*np.pi*freq_noise*t)) # Cosine coefficient equation\n",
    "y -= coef*np.cos(2*np.pi*freq_noise*t)"
   ]
  },
  {
   "cell_type": "code",
   "execution_count": null,
   "metadata": {},
   "outputs": [],
   "source": [
    "# Take the Fourier Transform, again\n",
    "components = fft(y)\n",
    "real_components = components.real\n",
    "freq = fftfreq(y.shape[-1], d = 1/fs)"
   ]
  },
  {
   "cell_type": "code",
   "execution_count": null,
   "metadata": {},
   "outputs": [],
   "source": [
    "figs, axs = plt.subplots(2)\n",
    "\n",
    "axs[0].plot(t, y)\n",
    "axs[0].set_title(\"Sinusoid\")\n",
    "axs[0].set_xlabel(\"Time [s]\")\n",
    "axs[0].set_ylabel(\"Y\")\n",
    "\n",
    "axs[1].plot(freq, real_components)\n",
    "axs[1].set_xlim(left = 0)\n",
    "axs[1].set_title(\"Fourier Domain\")\n",
    "axs[1].set_xlabel(\"Frequency [Hz]\")\n",
    "axs[1].set_ylabel(\"Magnitude\")\n",
    "\n",
    "plt.tight_layout()"
   ]
  },
  {
   "cell_type": "code",
   "execution_count": null,
   "metadata": {},
   "outputs": [],
   "source": []
  }
 ],
 "metadata": {
  "kernelspec": {
   "display_name": "Python 3",
   "language": "python",
   "name": "python3"
  },
  "language_info": {
   "codemirror_mode": {
    "name": "ipython",
    "version": 3
   },
   "file_extension": ".py",
   "mimetype": "text/x-python",
   "name": "python",
   "nbconvert_exporter": "python",
   "pygments_lexer": "ipython3",
   "version": "3.7.3"
  }
 },
 "nbformat": 4,
 "nbformat_minor": 2
}
