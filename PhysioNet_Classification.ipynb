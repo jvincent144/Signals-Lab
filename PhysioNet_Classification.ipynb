{
 "cells": [
  {
   "cell_type": "code",
   "execution_count": null,
   "metadata": {},
   "outputs": [],
   "source": [
    "%load_ext autoreload\n",
    "%autoreload 2\n",
    "\n",
    "# System\n",
    "import os\n",
    "import sys\n",
    "\n",
    "# File Formatting\n",
    "import pandas as pd\n",
    "\n",
    "# Math and Plotting\n",
    "import numpy as np\n",
    "import matplotlib.pyplot as plt\n",
    "\n",
    "# PyTorch\n",
    "import torch\n",
    "\n",
    "# Dataset and DataLoader\n",
    "from datasets import PhysioNetDataset\n",
    "from torch.utils.data import DataLoader\n",
    "\n",
    "# Model and Trainer\n",
    "from models import Trainer\n",
    "\n",
    "# Loss and Optimizer\n",
    "from torch.nn import CrossEntropyLoss\n",
    "from torch.optim import SGD"
   ]
  },
  {
   "cell_type": "code",
   "execution_count": null,
   "metadata": {},
   "outputs": [],
   "source": [
    "root = os.getcwd()\n",
    "meta = \"REFERENCE.csv\"\n",
    "fs = 300 # Hz\n",
    "seconds = 30\n",
    "trainset = PhysioNetDataset(root, meta, fs, seconds, train = True)\n",
    "testset = PhysioNetDataset(root, meta, fs, seconds, train = False)\n",
    "print(\"Trainset Sample Size: {:d}\\tTestset Sample Size: {:d}\".format(len(trainset), len(testset)))"
   ]
  },
  {
   "cell_type": "code",
   "execution_count": null,
   "metadata": {},
   "outputs": [],
   "source": [
    "idx = 600\n",
    "img, lbl = trainset[idx]\n",
    "plt.imshow(img[0,:,:])\n",
    "plt.title(\"Label: {:d}\".format(lbl))"
   ]
  },
  {
   "cell_type": "code",
   "execution_count": null,
   "metadata": {},
   "outputs": [],
   "source": [
    "batch_size = 32\n",
    "train_loader = DataLoader(trainset, batch_size, shuffle = True)\n",
    "test_loader = DataLoader(testset, batch_size, shuffle = False)"
   ]
  },
  {
   "cell_type": "code",
   "execution_count": null,
   "metadata": {},
   "outputs": [],
   "source": [
    "cnn = torch.hub.load('pytorch/vision:v0.6.0', 'resnet34', pretrained = False)\n",
    "loss = CrossEntropyLoss()\n",
    "optim = SGD(cnn.parameters(), lr = 0.001, momentum = 0.90)\n",
    "trainer = Trainer(cnn, loss, optim)"
   ]
  },
  {
   "cell_type": "code",
   "execution_count": null,
   "metadata": {},
   "outputs": [],
   "source": [
    "trainer.train(train_loader, 200)"
   ]
  },
  {
   "cell_type": "code",
   "execution_count": null,
   "metadata": {},
   "outputs": [],
   "source": [
    "trainer.validate(test_loader)"
   ]
  }
 ],
 "metadata": {
  "kernelspec": {
   "display_name": "Python 3",
   "language": "python",
   "name": "python3"
  },
  "language_info": {
   "codemirror_mode": {
    "name": "ipython",
    "version": 3
   },
   "file_extension": ".py",
   "mimetype": "text/x-python",
   "name": "python",
   "nbconvert_exporter": "python",
   "pygments_lexer": "ipython3",
   "version": "3.7.3"
  }
 },
 "nbformat": 4,
 "nbformat_minor": 2
}
